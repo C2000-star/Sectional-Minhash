{
  "nbformat": 4,
  "nbformat_minor": 0,
  "metadata": {
    "colab": {
      "name": "preprocessing.ipynb",
      "provenance": []
    },
    "kernelspec": {
      "name": "python3",
      "display_name": "Python 3"
    },
    "language_info": {
      "name": "python"
    }
  },
  "cells": [
    {
      "cell_type": "code",
      "execution_count": null,
      "metadata": {
        "id": "5YJ28puYUj8W"
      },
      "outputs": [],
      "source": [
        "import json\n",
        "\n",
        "with open('man.json') as a:\n",
        "    dict1 = json.load(a)\n",
        "print(dict1)\n",
        "\n",
        "\n",
        "headlines=[]\n",
        "for i,j in enumerate (dict1):\n",
        "  headlines.append(dict1[i][headline])\n",
        "\n",
        "from toolz import unique\n",
        "\n",
        "d = {v: k for k, v in enumerate(unique(headlines))}\n",
        "headline_id = list(map(d.get, headlines))\n",
        "\n",
        "headlines_mapping={}\n",
        "\n",
        "for i in range .values():\n",
        "  headlines_mapping[headline_id[i]]=headlines[i]"
      ]
    }
  ]
}